{
 "cells": [
  {
   "cell_type": "markdown",
   "metadata": {},
   "source": [
    "https://jessesw.com/Rec-System/\n",
    "https://github.com/benfred/implicit\n"
   ]
  },
  {
   "cell_type": "code",
   "execution_count": 1,
   "metadata": {},
   "outputs": [],
   "source": [
    "import pandas as pd\n",
    "import scipy.sparse as sparse\n",
    "import numpy as np\n",
    "from scipy.sparse.linalg import spsolve"
   ]
  },
  {
   "cell_type": "markdown",
   "metadata": {},
   "source": [
    "## 데이터 불러오기"
   ]
  },
  {
   "cell_type": "code",
   "execution_count": 2,
   "metadata": {},
   "outputs": [],
   "source": [
    "website_url = 'http://archive.ics.uci.edu/ml/machine-learning-databases/00352/Online%20Retail.xlsx'\n",
    "retail_data = pd.read_excel(website_url)"
   ]
  },
  {
   "cell_type": "code",
   "execution_count": 3,
   "metadata": {},
   "outputs": [
    {
     "data": {
      "text/html": [
       "<div>\n",
       "<style scoped>\n",
       "    .dataframe tbody tr th:only-of-type {\n",
       "        vertical-align: middle;\n",
       "    }\n",
       "\n",
       "    .dataframe tbody tr th {\n",
       "        vertical-align: top;\n",
       "    }\n",
       "\n",
       "    .dataframe thead th {\n",
       "        text-align: right;\n",
       "    }\n",
       "</style>\n",
       "<table border=\"1\" class=\"dataframe\">\n",
       "  <thead>\n",
       "    <tr style=\"text-align: right;\">\n",
       "      <th></th>\n",
       "      <th>InvoiceNo</th>\n",
       "      <th>StockCode</th>\n",
       "      <th>Description</th>\n",
       "      <th>Quantity</th>\n",
       "      <th>InvoiceDate</th>\n",
       "      <th>UnitPrice</th>\n",
       "      <th>CustomerID</th>\n",
       "      <th>Country</th>\n",
       "    </tr>\n",
       "  </thead>\n",
       "  <tbody>\n",
       "    <tr>\n",
       "      <th>0</th>\n",
       "      <td>536365</td>\n",
       "      <td>85123A</td>\n",
       "      <td>WHITE HANGING HEART T-LIGHT HOLDER</td>\n",
       "      <td>6</td>\n",
       "      <td>2010-12-01 08:26:00</td>\n",
       "      <td>2.55</td>\n",
       "      <td>17850.0</td>\n",
       "      <td>United Kingdom</td>\n",
       "    </tr>\n",
       "    <tr>\n",
       "      <th>1</th>\n",
       "      <td>536365</td>\n",
       "      <td>71053</td>\n",
       "      <td>WHITE METAL LANTERN</td>\n",
       "      <td>6</td>\n",
       "      <td>2010-12-01 08:26:00</td>\n",
       "      <td>3.39</td>\n",
       "      <td>17850.0</td>\n",
       "      <td>United Kingdom</td>\n",
       "    </tr>\n",
       "    <tr>\n",
       "      <th>2</th>\n",
       "      <td>536365</td>\n",
       "      <td>84406B</td>\n",
       "      <td>CREAM CUPID HEARTS COAT HANGER</td>\n",
       "      <td>8</td>\n",
       "      <td>2010-12-01 08:26:00</td>\n",
       "      <td>2.75</td>\n",
       "      <td>17850.0</td>\n",
       "      <td>United Kingdom</td>\n",
       "    </tr>\n",
       "    <tr>\n",
       "      <th>3</th>\n",
       "      <td>536365</td>\n",
       "      <td>84029G</td>\n",
       "      <td>KNITTED UNION FLAG HOT WATER BOTTLE</td>\n",
       "      <td>6</td>\n",
       "      <td>2010-12-01 08:26:00</td>\n",
       "      <td>3.39</td>\n",
       "      <td>17850.0</td>\n",
       "      <td>United Kingdom</td>\n",
       "    </tr>\n",
       "    <tr>\n",
       "      <th>4</th>\n",
       "      <td>536365</td>\n",
       "      <td>84029E</td>\n",
       "      <td>RED WOOLLY HOTTIE WHITE HEART.</td>\n",
       "      <td>6</td>\n",
       "      <td>2010-12-01 08:26:00</td>\n",
       "      <td>3.39</td>\n",
       "      <td>17850.0</td>\n",
       "      <td>United Kingdom</td>\n",
       "    </tr>\n",
       "  </tbody>\n",
       "</table>\n",
       "</div>"
      ],
      "text/plain": [
       "  InvoiceNo StockCode                          Description  Quantity  \\\n",
       "0    536365    85123A   WHITE HANGING HEART T-LIGHT HOLDER         6   \n",
       "1    536365     71053                  WHITE METAL LANTERN         6   \n",
       "2    536365    84406B       CREAM CUPID HEARTS COAT HANGER         8   \n",
       "3    536365    84029G  KNITTED UNION FLAG HOT WATER BOTTLE         6   \n",
       "4    536365    84029E       RED WOOLLY HOTTIE WHITE HEART.         6   \n",
       "\n",
       "          InvoiceDate  UnitPrice  CustomerID         Country  \n",
       "0 2010-12-01 08:26:00       2.55     17850.0  United Kingdom  \n",
       "1 2010-12-01 08:26:00       3.39     17850.0  United Kingdom  \n",
       "2 2010-12-01 08:26:00       2.75     17850.0  United Kingdom  \n",
       "3 2010-12-01 08:26:00       3.39     17850.0  United Kingdom  \n",
       "4 2010-12-01 08:26:00       3.39     17850.0  United Kingdom  "
      ]
     },
     "execution_count": 3,
     "metadata": {},
     "output_type": "execute_result"
    }
   ],
   "source": [
    "retail_data.head()"
   ]
  },
  {
   "cell_type": "code",
   "execution_count": 4,
   "metadata": {},
   "outputs": [
    {
     "name": "stdout",
     "output_type": "stream",
     "text": [
      "<class 'pandas.core.frame.DataFrame'>\n",
      "RangeIndex: 541909 entries, 0 to 541908\n",
      "Data columns (total 8 columns):\n",
      " #   Column       Non-Null Count   Dtype         \n",
      "---  ------       --------------   -----         \n",
      " 0   InvoiceNo    541909 non-null  object        \n",
      " 1   StockCode    541909 non-null  object        \n",
      " 2   Description  540455 non-null  object        \n",
      " 3   Quantity     541909 non-null  int64         \n",
      " 4   InvoiceDate  541909 non-null  datetime64[ns]\n",
      " 5   UnitPrice    541909 non-null  float64       \n",
      " 6   CustomerID   406829 non-null  float64       \n",
      " 7   Country      541909 non-null  object        \n",
      "dtypes: datetime64[ns](1), float64(2), int64(1), object(4)\n",
      "memory usage: 33.1+ MB\n"
     ]
    }
   ],
   "source": [
    "retail_data.info() # 541,909 행"
   ]
  },
  {
   "cell_type": "markdown",
   "metadata": {},
   "source": [
    "## 전처리"
   ]
  },
  {
   "cell_type": "code",
   "execution_count": 5,
   "metadata": {},
   "outputs": [],
   "source": [
    "# 1. CustomerID가 NA인 것을 지워줌\n",
    "cleaned_retail = retail_data[retail_data['CustomerID'].notna()]"
   ]
  },
  {
   "cell_type": "code",
   "execution_count": 6,
   "metadata": {
    "scrolled": true
   },
   "outputs": [
    {
     "name": "stdout",
     "output_type": "stream",
     "text": [
      "<class 'pandas.core.frame.DataFrame'>\n",
      "Int64Index: 406829 entries, 0 to 541908\n",
      "Data columns (total 8 columns):\n",
      " #   Column       Non-Null Count   Dtype         \n",
      "---  ------       --------------   -----         \n",
      " 0   InvoiceNo    406829 non-null  object        \n",
      " 1   StockCode    406829 non-null  object        \n",
      " 2   Description  406829 non-null  object        \n",
      " 3   Quantity     406829 non-null  int64         \n",
      " 4   InvoiceDate  406829 non-null  datetime64[ns]\n",
      " 5   UnitPrice    406829 non-null  float64       \n",
      " 6   CustomerID   406829 non-null  float64       \n",
      " 7   Country      406829 non-null  object        \n",
      "dtypes: datetime64[ns](1), float64(2), int64(1), object(4)\n",
      "memory usage: 27.9+ MB\n"
     ]
    }
   ],
   "source": [
    "cleaned_retail.info() # 총 406,829행"
   ]
  },
  {
   "cell_type": "code",
   "execution_count": 7,
   "metadata": {},
   "outputs": [
    {
     "data": {
      "text/html": [
       "<div>\n",
       "<style scoped>\n",
       "    .dataframe tbody tr th:only-of-type {\n",
       "        vertical-align: middle;\n",
       "    }\n",
       "\n",
       "    .dataframe tbody tr th {\n",
       "        vertical-align: top;\n",
       "    }\n",
       "\n",
       "    .dataframe thead th {\n",
       "        text-align: right;\n",
       "    }\n",
       "</style>\n",
       "<table border=\"1\" class=\"dataframe\">\n",
       "  <thead>\n",
       "    <tr style=\"text-align: right;\">\n",
       "      <th></th>\n",
       "      <th>Quantity</th>\n",
       "      <th>UnitPrice</th>\n",
       "      <th>CustomerID</th>\n",
       "    </tr>\n",
       "  </thead>\n",
       "  <tbody>\n",
       "    <tr>\n",
       "      <th>count</th>\n",
       "      <td>406829.000000</td>\n",
       "      <td>406829.000000</td>\n",
       "      <td>406829.000000</td>\n",
       "    </tr>\n",
       "    <tr>\n",
       "      <th>mean</th>\n",
       "      <td>12.061303</td>\n",
       "      <td>3.460471</td>\n",
       "      <td>15287.690570</td>\n",
       "    </tr>\n",
       "    <tr>\n",
       "      <th>std</th>\n",
       "      <td>248.693370</td>\n",
       "      <td>69.315162</td>\n",
       "      <td>1713.600303</td>\n",
       "    </tr>\n",
       "    <tr>\n",
       "      <th>min</th>\n",
       "      <td>-80995.000000</td>\n",
       "      <td>0.000000</td>\n",
       "      <td>12346.000000</td>\n",
       "    </tr>\n",
       "    <tr>\n",
       "      <th>25%</th>\n",
       "      <td>2.000000</td>\n",
       "      <td>1.250000</td>\n",
       "      <td>13953.000000</td>\n",
       "    </tr>\n",
       "    <tr>\n",
       "      <th>50%</th>\n",
       "      <td>5.000000</td>\n",
       "      <td>1.950000</td>\n",
       "      <td>15152.000000</td>\n",
       "    </tr>\n",
       "    <tr>\n",
       "      <th>75%</th>\n",
       "      <td>12.000000</td>\n",
       "      <td>3.750000</td>\n",
       "      <td>16791.000000</td>\n",
       "    </tr>\n",
       "    <tr>\n",
       "      <th>max</th>\n",
       "      <td>80995.000000</td>\n",
       "      <td>38970.000000</td>\n",
       "      <td>18287.000000</td>\n",
       "    </tr>\n",
       "  </tbody>\n",
       "</table>\n",
       "</div>"
      ],
      "text/plain": [
       "            Quantity      UnitPrice     CustomerID\n",
       "count  406829.000000  406829.000000  406829.000000\n",
       "mean       12.061303       3.460471   15287.690570\n",
       "std       248.693370      69.315162    1713.600303\n",
       "min    -80995.000000       0.000000   12346.000000\n",
       "25%         2.000000       1.250000   13953.000000\n",
       "50%         5.000000       1.950000   15152.000000\n",
       "75%        12.000000       3.750000   16791.000000\n",
       "max     80995.000000   38970.000000   18287.000000"
      ]
     },
     "execution_count": 7,
     "metadata": {},
     "output_type": "execute_result"
    }
   ],
   "source": [
    "cleaned_retail.describe()"
   ]
  },
  {
   "cell_type": "code",
   "execution_count": 8,
   "metadata": {},
   "outputs": [
    {
     "data": {
      "text/html": [
       "<div>\n",
       "<style scoped>\n",
       "    .dataframe tbody tr th:only-of-type {\n",
       "        vertical-align: middle;\n",
       "    }\n",
       "\n",
       "    .dataframe tbody tr th {\n",
       "        vertical-align: top;\n",
       "    }\n",
       "\n",
       "    .dataframe thead th {\n",
       "        text-align: right;\n",
       "    }\n",
       "</style>\n",
       "<table border=\"1\" class=\"dataframe\">\n",
       "  <thead>\n",
       "    <tr style=\"text-align: right;\">\n",
       "      <th></th>\n",
       "      <th>StockCode</th>\n",
       "      <th>Description</th>\n",
       "    </tr>\n",
       "  </thead>\n",
       "  <tbody>\n",
       "    <tr>\n",
       "      <th>0</th>\n",
       "      <td>85123A</td>\n",
       "      <td>WHITE HANGING HEART T-LIGHT HOLDER</td>\n",
       "    </tr>\n",
       "    <tr>\n",
       "      <th>1</th>\n",
       "      <td>71053</td>\n",
       "      <td>WHITE METAL LANTERN</td>\n",
       "    </tr>\n",
       "    <tr>\n",
       "      <th>2</th>\n",
       "      <td>84406B</td>\n",
       "      <td>CREAM CUPID HEARTS COAT HANGER</td>\n",
       "    </tr>\n",
       "    <tr>\n",
       "      <th>3</th>\n",
       "      <td>84029G</td>\n",
       "      <td>KNITTED UNION FLAG HOT WATER BOTTLE</td>\n",
       "    </tr>\n",
       "    <tr>\n",
       "      <th>4</th>\n",
       "      <td>84029E</td>\n",
       "      <td>RED WOOLLY HOTTIE WHITE HEART.</td>\n",
       "    </tr>\n",
       "  </tbody>\n",
       "</table>\n",
       "</div>"
      ],
      "text/plain": [
       "  StockCode                          Description\n",
       "0    85123A   WHITE HANGING HEART T-LIGHT HOLDER\n",
       "1     71053                  WHITE METAL LANTERN\n",
       "2    84406B       CREAM CUPID HEARTS COAT HANGER\n",
       "3    84029G  KNITTED UNION FLAG HOT WATER BOTTLE\n",
       "4    84029E       RED WOOLLY HOTTIE WHITE HEART."
      ]
     },
     "execution_count": 8,
     "metadata": {},
     "output_type": "execute_result"
    }
   ],
   "source": [
    "item_lookup = cleaned_retail[['StockCode','Description']].drop_duplicates()\n",
    "item_lookup['StockCode'] = item_lookup['StockCode'].astype(str)\n",
    "item_lookup.head()"
   ]
  },
  {
   "cell_type": "code",
   "execution_count": 9,
   "metadata": {},
   "outputs": [
    {
     "name": "stderr",
     "output_type": "stream",
     "text": [
      "<ipython-input-9-b8a544015497>:3: SettingWithCopyWarning: \n",
      "A value is trying to be set on a copy of a slice from a DataFrame.\n",
      "Try using .loc[row_indexer,col_indexer] = value instead\n",
      "\n",
      "See the caveats in the documentation: https://pandas.pydata.org/pandas-docs/stable/user_guide/indexing.html#returning-a-view-versus-a-copy\n",
      "  cleaned_retail['CustomerID'] = cleaned_retail['CustomerID'].astype(int)\n"
     ]
    }
   ],
   "source": [
    "# matrix가 매우 크기 때문에 Sparse matrix로 바꾸어주어서\n",
    "# zero가 아닌 값들의 위치와 그 값만 저장하도록 메모리 절약!\n",
    "cleaned_retail['CustomerID'] = cleaned_retail['CustomerID'].astype(int)\n",
    "cleaned_retail = cleaned_retail[['CustomerID','StockCode','Quantity']]\n",
    "grouped_cleaned = cleaned_retail.groupby(['CustomerID','StockCode']).sum().reset_index()\n",
    "grouped_cleaned[grouped_cleaned['Quantity']==0] = 1 # 왜 바꿔주지..\n",
    "\n",
    "# 구매한 애들만 뽑기\n",
    "grouped_purchased = grouped_cleaned[grouped_cleaned['Quantity']>0]"
   ]
  },
  {
   "cell_type": "code",
   "execution_count": 10,
   "metadata": {},
   "outputs": [
    {
     "data": {
      "text/html": [
       "<div>\n",
       "<style scoped>\n",
       "    .dataframe tbody tr th:only-of-type {\n",
       "        vertical-align: middle;\n",
       "    }\n",
       "\n",
       "    .dataframe tbody tr th {\n",
       "        vertical-align: top;\n",
       "    }\n",
       "\n",
       "    .dataframe thead th {\n",
       "        text-align: right;\n",
       "    }\n",
       "</style>\n",
       "<table border=\"1\" class=\"dataframe\">\n",
       "  <thead>\n",
       "    <tr style=\"text-align: right;\">\n",
       "      <th></th>\n",
       "      <th>CustomerID</th>\n",
       "      <th>StockCode</th>\n",
       "      <th>Quantity</th>\n",
       "    </tr>\n",
       "  </thead>\n",
       "  <tbody>\n",
       "    <tr>\n",
       "      <th>0</th>\n",
       "      <td>1</td>\n",
       "      <td>1</td>\n",
       "      <td>1</td>\n",
       "    </tr>\n",
       "    <tr>\n",
       "      <th>1</th>\n",
       "      <td>12347</td>\n",
       "      <td>16008</td>\n",
       "      <td>24</td>\n",
       "    </tr>\n",
       "    <tr>\n",
       "      <th>2</th>\n",
       "      <td>12347</td>\n",
       "      <td>17021</td>\n",
       "      <td>36</td>\n",
       "    </tr>\n",
       "    <tr>\n",
       "      <th>3</th>\n",
       "      <td>12347</td>\n",
       "      <td>20665</td>\n",
       "      <td>6</td>\n",
       "    </tr>\n",
       "    <tr>\n",
       "      <th>4</th>\n",
       "      <td>12347</td>\n",
       "      <td>20719</td>\n",
       "      <td>40</td>\n",
       "    </tr>\n",
       "  </tbody>\n",
       "</table>\n",
       "</div>"
      ],
      "text/plain": [
       "   CustomerID StockCode  Quantity\n",
       "0           1         1         1\n",
       "1       12347     16008        24\n",
       "2       12347     17021        36\n",
       "3       12347     20665         6\n",
       "4       12347     20719        40"
      ]
     },
     "execution_count": 10,
     "metadata": {},
     "output_type": "execute_result"
    }
   ],
   "source": [
    "grouped_purchased.head()"
   ]
  },
  {
   "cell_type": "code",
   "execution_count": 11,
   "metadata": {},
   "outputs": [
    {
     "name": "stdout",
     "output_type": "stream",
     "text": [
      "4327\n",
      "3650\n"
     ]
    },
    {
     "data": {
      "text/plain": [
       "<4327x3650 sparse matrix of type '<class 'numpy.int64'>'\n",
       "\twith 265221 stored elements in Compressed Sparse Row format>"
      ]
     },
     "execution_count": 11,
     "metadata": {},
     "output_type": "execute_result"
    }
   ],
   "source": [
    "customers = list(np.sort(grouped_purchased['CustomerID'].unique()))\n",
    "products = list (grouped_purchased['StockCode'].unique())\n",
    "quantity = list(grouped_purchased['Quantity'])\n",
    "\n",
    "rows = grouped_purchased['CustomerID'].astype('category').cat.codes\n",
    "cols = grouped_purchased['StockCode'].astype('category').cat.codes\n",
    "\n",
    "print(len(customers)) # 4327\n",
    "print(len(products))  # 3650\n",
    "\n",
    "# csr: Compressed Sparse matrix by Row\n",
    "purchase_sparse = sparse.csr_matrix((quantity, (rows, cols)), shape = (len(customers),len(products)))\n",
    "purchase_sparse #4327 * 3650 행렬"
   ]
  },
  {
   "cell_type": "code",
   "execution_count": 12,
   "metadata": {},
   "outputs": [
    {
     "data": {
      "text/plain": [
       "98.32070053914414"
      ]
     },
     "execution_count": 12,
     "metadata": {},
     "output_type": "execute_result"
    }
   ],
   "source": [
    "# Sparsity: 얼마나 비어있나?\n",
    "matrix_size = purchase_sparse.shape[0]* purchase_sparse.shape[1]\n",
    "num_purchases = len(purchase_sparse.nonzero()[0])\n",
    "sparsity = 100 * (1 - (num_purchases / matrix_size))\n",
    "sparsity"
   ]
  },
  {
   "cell_type": "code",
   "execution_count": 13,
   "metadata": {},
   "outputs": [],
   "source": [
    "import random"
   ]
  },
  {
   "cell_type": "code",
   "execution_count": 14,
   "metadata": {},
   "outputs": [],
   "source": [
    "def make_train (matrix, percentage = .2):\n",
    "    '''\n",
    "    -----------------------------------------------------\n",
    "    설명\n",
    "    유저-아이템 행렬 (matrix)에서 \n",
    "    1. 0이상의 값을 가지면 1의 값을 갖도록 binary하게 테스트 데이터를 만들고\n",
    "    2. 훈련 데이터는 원본 행렬에서 percentage 비율만큼 0으로 바뀜\n",
    "    \n",
    "    -----------------------------------------------------\n",
    "    반환\n",
    "    training_set: 훈련 데이터에서 percentage 비율만큼 0으로 바뀐 행렬\n",
    "    test_set:     원본 유저-아이템 행렬의 복사본\n",
    "    user_inds:    훈련 데이터에서 0으로 바뀐 유저의 index\n",
    "    '''\n",
    "    test_set = matrix.copy()\n",
    "    test_set[test_set !=0] = 1 # binary하게 만들기\n",
    "    \n",
    "    training_set = matrix.copy()\n",
    "    nonzero_inds = training_set.nonzero()\n",
    "    nonzero_pairs = list(zip(nonzero_inds[0], nonzero_inds[1]))\n",
    "    \n",
    "    random.seed(0)\n",
    "    num_samples = int(np.ceil(percentage * len(nonzero_pairs)))\n",
    "    samples = random.sample (nonzero_pairs, num_samples)\n",
    "    \n",
    "    user_inds = [index[0] for index in samples]\n",
    "    item_inds = [index[1] for index in samples]\n",
    "    \n",
    "    training_set[user_inds, item_inds] = 0\n",
    "    training_set.eliminate_zeros()\n",
    "    \n",
    "    return training_set, test_set, list(set(user_inds))"
   ]
  },
  {
   "cell_type": "code",
   "execution_count": 15,
   "metadata": {},
   "outputs": [],
   "source": [
    "product_train, product_test, product_users_altered = make_train(purchase_sparse, 0.2)"
   ]
  },
  {
   "cell_type": "markdown",
   "metadata": {},
   "source": [
    "## ALS for Implicit Feedback"
   ]
  },
  {
   "cell_type": "code",
   "execution_count": 16,
   "metadata": {},
   "outputs": [],
   "source": [
    "def implicit_weighted_ALS(training_set, lambda_val =.1, alpha = 40, n_iter = 10, rank_size = 20, seed = 0):\n",
    "    '''\n",
    "    협업 필터링에 기반한 ALS\n",
    "    -----------------------------------------------------\n",
    "    input\n",
    "    1. training_set : m x n 행렬로, m은 유저 수, n은 아이템 수를 의미. csr 행렬 (희소 행렬) 형태여야 함 \n",
    "    2. lambda_val: ALS의 정규화 term. 이 값을 늘리면 bias는 늘지만 분산은 감소. default값은 0.1\n",
    "    3. alpha: 신뢰 행렬과 관련한 모수 (C_{ui} = 1 + alpha * r_{ui}). 이를 감소시키면 평점 간의 신뢰도의 다양성이 감소\n",
    "    4. n_iter: 반복 횟수\n",
    "    5. rank_size: 유저/ 아이템 특성 벡터의 잠재 특성의 개수. 논문에서는 20 ~ 200 사이를 추천하고 있음. 이를 늘리면 과적합 위험성이 있으나 \n",
    "    bias가 감소\n",
    "    6. seed: 난수 생성에 필요한 seed\n",
    "    -----------------------------------------------------\n",
    "    반환\n",
    "    유저와 아이템에 대한 특성 벡터\n",
    "    '''\n",
    "    \n",
    "    # 1. Confidence matrix\n",
    "    # C = 1+ alpha * r_{ui}\n",
    "    conf = (alpha*training_set) # sparse 행렬 형태를 유지하기 위해서 1을 나중에 더함\n",
    "    \n",
    "    num_user = conf.shape[0]\n",
    "    num_item = conf.shape[1]\n",
    "\n",
    "    # X와 Y 초기화\n",
    "    rstate = np.random.RandomState(seed)\n",
    "    X = sparse.csr_matrix(rstate.normal(size = (num_user, rank_size)))\n",
    "    Y = sparse.csr_matrix(rstate.normal(size = (num_item, rank_size)))\n",
    "    X_eye = sparse.eye(num_user)\n",
    "    Y_eye = sparse.eye(num_item)\n",
    "    \n",
    "    # 정규화 term: 𝝀I\n",
    "    lambda_eye = lambda_val * sparse.eye (rank_size)\n",
    "    \n",
    "    # 반복 시작\n",
    "    for i in range(n_iter):\n",
    "        yTy = Y.T.dot(Y)\n",
    "        xTx = X.T.dot(X)\n",
    "        \n",
    "        # Y를 고정해놓고 X에 대해 반복\n",
    "        # Xu = (yTy + yT(Cu-I)Y + 𝝀I)^{-1} yTCuPu\n",
    "        for u in range(num_user):\n",
    "            conf_samp = conf[u,:].toarray() # Cu\n",
    "            pref = conf_samp.copy()\n",
    "            pref[pref!=0] = 1\n",
    "            # Cu-I: 위에서 conf에 1을 더하지 않았으니까 I를 빼지 않음 \n",
    "            CuI = sparse.diags(conf_samp, [0])\n",
    "            # yT(Cu-I)Y\n",
    "            yTCuIY = Y.T.dot(CuI).dot(Y)\n",
    "            # yTCuPu\n",
    "            yTCupu = Y.T.dot(CuI+Y_eye).dot(pref.T)\n",
    "            \n",
    "            X[u] = spsolve(yTy + yTCuIY + lambda_eye, yTCupu)\n",
    "        \n",
    "        # X를 고정해놓고 Y에 대해 반복\n",
    "        # Yi = (xTx + xT(Cu-I)X + 𝝀I)^{-1} xTCiPi\n",
    "        for i in range(num_item):\n",
    "            conf_samp = conf[:,i].T.toarray()\n",
    "            pref = conf_samp.copy()\n",
    "            pref[pref!=0] = 1\n",
    "            \n",
    "            #Ci-I\n",
    "            CiI = sparse.diags (conf_samp, [0])\n",
    "            # xT(Ci-I)X\n",
    "            xTCiIX = X.T.dot(CiI).dot(X)\n",
    "            # xTCiPi\n",
    "            xTCiPi = X.T.dot(CiI+ X_eye).dot(pref.T)\n",
    "            \n",
    "            Y[i] = spsolve(xTx + xTCiIX + lambda_eye, xTCiPi)\n",
    "            \n",
    "        return X, Y.T\n",
    "    "
   ]
  },
  {
   "cell_type": "code",
   "execution_count": 17,
   "metadata": {},
   "outputs": [],
   "source": [
    "user_vecs, item_vecs = implicit_weighted_ALS (product_train\n",
    "                                              , lambda_val = 0.1\n",
    "                                              , alpha = 15\n",
    "                                              , n_iter = 1\n",
    "                                              , rank_size = 20)"
   ]
  },
  {
   "cell_type": "code",
   "execution_count": 18,
   "metadata": {},
   "outputs": [
    {
     "data": {
      "text/plain": [
       "array([0.19375569, 0.05482773, 0.00230204, 0.01303025, 0.04740501])"
      ]
     },
     "execution_count": 18,
     "metadata": {},
     "output_type": "execute_result"
    }
   ],
   "source": [
    "first = user_vecs[0].dot(item_vecs).toarray() # 1x3650\n",
    "first[0,:5]"
   ]
  },
  {
   "cell_type": "markdown",
   "metadata": {},
   "source": [
    "## Implicit library 이용하기"
   ]
  },
  {
   "cell_type": "code",
   "execution_count": 19,
   "metadata": {},
   "outputs": [],
   "source": [
    "import implicit"
   ]
  },
  {
   "cell_type": "code",
   "execution_count": 20,
   "metadata": {},
   "outputs": [
    {
     "name": "stderr",
     "output_type": "stream",
     "text": [
      "This method is deprecated. Please use the AlternatingLeastSquares class instead\n",
      "WARNING:root:Intel MKL BLAS detected. Its highly recommend to set the environment variable 'export MKL_NUM_THREADS=1' to disable its internal multithreading\n"
     ]
    },
    {
     "data": {
      "application/vnd.jupyter.widget-view+json": {
       "model_id": "5b74447a5c55434e99cf9a499d9577fb",
       "version_major": 2,
       "version_minor": 0
      },
      "text/plain": [
       "HBox(children=(FloatProgress(value=0.0, max=50.0), HTML(value='')))"
      ]
     },
     "metadata": {},
     "output_type": "display_data"
    },
    {
     "name": "stdout",
     "output_type": "stream",
     "text": [
      "\n"
     ]
    }
   ],
   "source": [
    "alpha = 15\n",
    "user_vecs, item_vecs = implicit.alternating_least_squares((product_train*alpha).astype('double')\n",
    "                                                          , factors=20\n",
    "                                                          , regularization = 0.1\n",
    "                                                          , iterations = 50)\n",
    "predictions = [sparse.csr_matrix(user_vecs), sparse.csr_matrix(item_vecs.T)]"
   ]
  },
  {
   "cell_type": "code",
   "execution_count": 21,
   "metadata": {},
   "outputs": [
    {
     "data": {
      "text/plain": [
       "<20x3650 sparse matrix of type '<class 'numpy.float32'>'\n",
       "\twith 71940 stored elements in Compressed Sparse Row format>"
      ]
     },
     "execution_count": 21,
     "metadata": {},
     "output_type": "execute_result"
    }
   ],
   "source": [
    "predictions[0] #4327 * 20\n",
    "predictions[1] #20 * 3650"
   ]
  },
  {
   "cell_type": "markdown",
   "metadata": {},
   "source": [
    "## 추천 시스템 평가하기"
   ]
  },
  {
   "cell_type": "code",
   "execution_count": 22,
   "metadata": {},
   "outputs": [],
   "source": [
    "from sklearn import metrics"
   ]
  },
  {
   "cell_type": "code",
   "execution_count": 23,
   "metadata": {},
   "outputs": [],
   "source": [
    "def auc_score (test, predictions):\n",
    "    fpr, tpr, thresholds = metrics.roc_curve(test, predictions)\n",
    "    return metrics.auc(fpr, tpr)"
   ]
  },
  {
   "cell_type": "code",
   "execution_count": 24,
   "metadata": {},
   "outputs": [],
   "source": [
    "def calc_mean_auc(training_set, altered_users, predictions, test_set):\n",
    "    '''\n",
    "    가려진 정보가 있는 유저마다 AUC 평균을 구하는 함수\n",
    "    ----------------------------------------\n",
    "    input\n",
    "    1. training_set: make_train 함수에서 만들어진 훈련 데이터 (일정 비율로 아이템 구매량이 0으로 가려진 데이터)\n",
    "    2. prediction: implicit MF에서 나온 유저/아이템 별로 나온 예측 평점 행렬\n",
    "    3. altered_users: make_train 함수에서 아이템 구매량이 0으로 가려진 유저\n",
    "    4. test_set: make_train함수에서 만든 테스트 데이터\n",
    "    ----------------------------------------\n",
    "    반환\n",
    "    추천시스템 유저의 평균 auc\n",
    "    인기아이템 기반 유저 평균 auc\n",
    "    '''\n",
    "    # 리스트 초기화\n",
    "    store_auc = []\n",
    "    popularity_auc = []\n",
    "    \n",
    "    pop_items = np.array(test_set.sum(axis = 0)).reshape(-1) # 모든 유저의 아이템별 구매횟수 합\n",
    "    item_vecs = predictions[1] # 아이템 latent 벡터\n",
    "    \n",
    "    for user in altered_users:\n",
    "        training_row = training_set[user,:].toarray().reshape(-1) # 유저의 훈련데이터\n",
    "        zero_inds = np.where(training_row == 0) # 가려진 아이템 Index\n",
    "        \n",
    "        # 가려진 아이템에 대한 예측\n",
    "        user_vec = predictions[0][user,:]\n",
    "        pred = user_vec.dot(item_vecs).toarray()[0,zero_inds].reshape(-1)\n",
    "        \n",
    "        # 가려진 아이템에 대한 실제값\n",
    "        actual = test_set[user,:].toarray()[0,zero_inds].reshape(-1) \n",
    "        \n",
    "        # 가려진 아이템에 대한 popularity (구매횟수 합)\n",
    "        pop = pop_items[zero_inds]\n",
    "        \n",
    "        # AUC 계산 \n",
    "        store_auc.append(auc_score(actual, pred))\n",
    "        popularity_auc.append(auc_score(actual,pop))\n",
    "    \n",
    "    return float('%.3f'%np.mean(store_auc)), float('%.3f'%np.mean(popularity_auc))  "
   ]
  },
  {
   "cell_type": "code",
   "execution_count": 26,
   "metadata": {},
   "outputs": [
    {
     "data": {
      "text/plain": [
       "(0.872, 0.814)"
      ]
     },
     "execution_count": 26,
     "metadata": {},
     "output_type": "execute_result"
    }
   ],
   "source": [
    "calc_mean_auc(product_train, product_users_altered, predictions, product_test)\n",
    "# AUC for our recommender system"
   ]
  },
  {
   "cell_type": "markdown",
   "metadata": {},
   "source": [
    "## 추천 예시"
   ]
  },
  {
   "cell_type": "code",
   "execution_count": 27,
   "metadata": {},
   "outputs": [],
   "source": [
    "def get_items_purchased(customer_id, mf_train, customer_list, products_list, item_lookup):\n",
    "    cust_ind = np.where (customer_list == customer_id)[0][0]\n",
    "    purchased_ind = mf_train[cust_ind,:].nonzero()[1]\n",
    "    prod_codes = products_list[purchased_ind]\n",
    "    \n",
    "    return item_lookup.loc[item_lookup.StockCode.isin(prod_codes)]"
   ]
  },
  {
   "cell_type": "code",
   "execution_count": 28,
   "metadata": {},
   "outputs": [],
   "source": [
    "customers_arr = np.array(customers)\n",
    "products_arr = np.array(products)"
   ]
  },
  {
   "cell_type": "code",
   "execution_count": 29,
   "metadata": {},
   "outputs": [
    {
     "data": {
      "text/plain": [
       "array([    1, 12347, 12348, 12349, 12350])"
      ]
     },
     "execution_count": 29,
     "metadata": {},
     "output_type": "execute_result"
    }
   ],
   "source": [
    "customers_arr[:5]"
   ]
  },
  {
   "cell_type": "code",
   "execution_count": 69,
   "metadata": {
    "scrolled": true
   },
   "outputs": [
    {
     "data": {
      "text/html": [
       "<div>\n",
       "<style scoped>\n",
       "    .dataframe tbody tr th:only-of-type {\n",
       "        vertical-align: middle;\n",
       "    }\n",
       "\n",
       "    .dataframe tbody tr th {\n",
       "        vertical-align: top;\n",
       "    }\n",
       "\n",
       "    .dataframe thead th {\n",
       "        text-align: right;\n",
       "    }\n",
       "</style>\n",
       "<table border=\"1\" class=\"dataframe\">\n",
       "  <thead>\n",
       "    <tr style=\"text-align: right;\">\n",
       "      <th></th>\n",
       "      <th>StockCode</th>\n",
       "      <th>Description</th>\n",
       "    </tr>\n",
       "  </thead>\n",
       "  <tbody>\n",
       "    <tr>\n",
       "      <th>92</th>\n",
       "      <td>21094</td>\n",
       "      <td>SET/6 RED SPOTTY PAPER PLATES</td>\n",
       "    </tr>\n",
       "    <tr>\n",
       "      <th>198</th>\n",
       "      <td>21622</td>\n",
       "      <td>VINTAGE UNION JACK CUSHION COVER</td>\n",
       "    </tr>\n",
       "    <tr>\n",
       "      <th>374</th>\n",
       "      <td>84625A</td>\n",
       "      <td>PINK NEW BAROQUECANDLESTICK CANDLE</td>\n",
       "    </tr>\n",
       "    <tr>\n",
       "      <th>411</th>\n",
       "      <td>22383</td>\n",
       "      <td>LUNCH BAG SUKI  DESIGN</td>\n",
       "    </tr>\n",
       "    <tr>\n",
       "      <th>503</th>\n",
       "      <td>22531</td>\n",
       "      <td>MAGIC DRAWING SLATE CIRCUS PARADE</td>\n",
       "    </tr>\n",
       "    <tr>\n",
       "      <th>...</th>\n",
       "      <td>...</td>\n",
       "      <td>...</td>\n",
       "    </tr>\n",
       "    <tr>\n",
       "      <th>406162</th>\n",
       "      <td>23702</td>\n",
       "      <td>High Resolution Image</td>\n",
       "    </tr>\n",
       "    <tr>\n",
       "      <th>408518</th>\n",
       "      <td>23489</td>\n",
       "      <td>GARLAND, VINTAGE BELLS</td>\n",
       "    </tr>\n",
       "    <tr>\n",
       "      <th>410161</th>\n",
       "      <td>23489</td>\n",
       "      <td>VINTAGE BELLS GARLAND</td>\n",
       "    </tr>\n",
       "    <tr>\n",
       "      <th>417036</th>\n",
       "      <td>23581</td>\n",
       "      <td>JUMBO BAG PAISLEY PARK</td>\n",
       "    </tr>\n",
       "    <tr>\n",
       "      <th>420067</th>\n",
       "      <td>23303</td>\n",
       "      <td>SET 4 PICNIC CUTLERY FONDANT</td>\n",
       "    </tr>\n",
       "  </tbody>\n",
       "</table>\n",
       "<p>95 rows × 2 columns</p>\n",
       "</div>"
      ],
      "text/plain": [
       "       StockCode                          Description\n",
       "92         21094        SET/6 RED SPOTTY PAPER PLATES\n",
       "198        21622     VINTAGE UNION JACK CUSHION COVER\n",
       "374       84625A   PINK NEW BAROQUECANDLESTICK CANDLE\n",
       "411        22383              LUNCH BAG SUKI  DESIGN \n",
       "503        22531  MAGIC DRAWING SLATE CIRCUS PARADE  \n",
       "...          ...                                  ...\n",
       "406162     23702                High Resolution Image\n",
       "408518     23489               GARLAND, VINTAGE BELLS\n",
       "410161     23489                VINTAGE BELLS GARLAND\n",
       "417036     23581               JUMBO BAG PAISLEY PARK\n",
       "420067     23303         SET 4 PICNIC CUTLERY FONDANT\n",
       "\n",
       "[95 rows x 2 columns]"
      ]
     },
     "execution_count": 69,
     "metadata": {},
     "output_type": "execute_result"
    }
   ],
   "source": [
    "get_items_purchased(12347, product_train, customers_arr, products_arr, item_lookup)"
   ]
  },
  {
   "cell_type": "code",
   "execution_count": 31,
   "metadata": {},
   "outputs": [],
   "source": [
    "from sklearn.preprocessing import MinMaxScaler"
   ]
  },
  {
   "cell_type": "code",
   "execution_count": 34,
   "metadata": {},
   "outputs": [],
   "source": [
    "def rec_items(customer_id, mf_train, user_vecs, item_vecs, customer_list, item_list, item_lookup, num_items = 10):\n",
    "    '''\n",
    "    유저의 추천 아이템 반환\n",
    "    -----------------------------------------------------\n",
    "    INPUT\n",
    "    1. customer_id - Input the customer's id number that you want to get recommendations for\n",
    "    2. mf_train: 훈련 데이터\n",
    "    3. user_vecs: 행렬 분해에 쓰인 유저 벡터\n",
    "    4. item_vecs: 행렬 분해에 쓰인 아이템 벡터\n",
    "    5. customer_list: 평점 행렬의 행에 해당하는 고객 ID\n",
    "    6. item_list: 평점 행렬의 열에 해당하는 아이템 ID\n",
    "    7. item_lookup: 아이템 ID와 설명을 담은 테이블\n",
    "    8. num_items: 추천할 아이템 개수\n",
    "    -----------------------------------------------------\n",
    "    반환    \n",
    "    구매한 적이 없는 아이템 중 예측 평점이 높은 최고 n개의 추천 아이템\n",
    "    '''\n",
    "    \n",
    "    cust_ind = np.where(customer_list == customer_id)[0][0]\n",
    "    pref_vec = mf_train[cust_ind,:].toarray()                   # 훈련 데이터의 실제 평점\n",
    "    pref_vec = pref_vec.reshape(-1) + 1                         # 1을 더해서 환불한 것도 구매한 걸로 간주\n",
    "    pref_vec[pref_vec > 1] = 0                                  # 구매한 것들을 모두 0으로 \n",
    "    rec_vector = user_vecs[cust_ind,:].dot(item_vecs.T)         # 추천 시스템에 기반한 예측 평점\n",
    "    \n",
    "    # Min-Max Scaling\n",
    "    min_max = MinMaxScaler()\n",
    "    rec_vector_scaled = min_max.fit_transform(rec_vector.reshape(-1,1))[:,0] \n",
    "    recommend_vector = pref_vec*rec_vector_scaled  # 구매하지 않은 아이템에 대해서만 예측 평점이 남도록\n",
    "    \n",
    "    product_idx = np.argsort(recommend_vector)[::-1][:num_items] # num_items만큼 내림차순으로 평점 정렬한 index\n",
    "    \n",
    "    rec_list = []\n",
    "    \n",
    "    for index in product_idx:\n",
    "        code = item_list[index] # 아이템 id\n",
    "        # id와 description 담기\n",
    "        rec_list.append([code, item_lookup['Description'].loc[item_lookup['StockCode'] == code].iloc[0]]) \n",
    "    \n",
    "    codes = [item[0] for item in rec_list]\n",
    "    descriptions = [item[1] for item in rec_list]\n",
    "    final_frame = pd.DataFrame({'StockCode': codes, 'Description': descriptions})\n",
    "    \n",
    "    return final_frame[['StockCode', 'Description']]"
   ]
  },
  {
   "cell_type": "code",
   "execution_count": 67,
   "metadata": {},
   "outputs": [
    {
     "data": {
      "text/html": [
       "<div>\n",
       "<style scoped>\n",
       "    .dataframe tbody tr th:only-of-type {\n",
       "        vertical-align: middle;\n",
       "    }\n",
       "\n",
       "    .dataframe tbody tr th {\n",
       "        vertical-align: top;\n",
       "    }\n",
       "\n",
       "    .dataframe thead th {\n",
       "        text-align: right;\n",
       "    }\n",
       "</style>\n",
       "<table border=\"1\" class=\"dataframe\">\n",
       "  <thead>\n",
       "    <tr style=\"text-align: right;\">\n",
       "      <th></th>\n",
       "      <th>StockCode</th>\n",
       "      <th>Description</th>\n",
       "    </tr>\n",
       "  </thead>\n",
       "  <tbody>\n",
       "    <tr>\n",
       "      <th>91</th>\n",
       "      <td>84997C</td>\n",
       "      <td>BLUE 3 PIECE POLKADOT CUTLERY SET</td>\n",
       "    </tr>\n",
       "    <tr>\n",
       "      <th>8460</th>\n",
       "      <td>21090</td>\n",
       "      <td>SET/6 COLLAGE PAPER PLATES</td>\n",
       "    </tr>\n",
       "    <tr>\n",
       "      <th>23736</th>\n",
       "      <td>22377</td>\n",
       "      <td>BOTTLE BAG RETROSPOT</td>\n",
       "    </tr>\n",
       "    <tr>\n",
       "      <th>95267</th>\n",
       "      <td>84997C</td>\n",
       "      <td>CHILDRENS CUTLERY POLKADOT BLUE</td>\n",
       "    </tr>\n",
       "    <tr>\n",
       "      <th>98375</th>\n",
       "      <td>21414</td>\n",
       "      <td>SCALLOP SHELL SOAP DISH</td>\n",
       "    </tr>\n",
       "    <tr>\n",
       "      <th>287087</th>\n",
       "      <td>23360</td>\n",
       "      <td>SET 8 CANDLES VINTAGE DOILEY</td>\n",
       "    </tr>\n",
       "    <tr>\n",
       "      <th>287287</th>\n",
       "      <td>23436</td>\n",
       "      <td>GIFT BAG LARGE VINTAGE CHRISTMAS</td>\n",
       "    </tr>\n",
       "    <tr>\n",
       "      <th>290533</th>\n",
       "      <td>23349</td>\n",
       "      <td>ROLL WRAP VINTAGE CHRISTMAS</td>\n",
       "    </tr>\n",
       "    <tr>\n",
       "      <th>292783</th>\n",
       "      <td>23360</td>\n",
       "      <td>SET 8 CANDLES VINTAGE DOILY</td>\n",
       "    </tr>\n",
       "    <tr>\n",
       "      <th>304893</th>\n",
       "      <td>23436</td>\n",
       "      <td>VINTAGE CHRISTMAS GIFT BAG LARGE</td>\n",
       "    </tr>\n",
       "    <tr>\n",
       "      <th>376199</th>\n",
       "      <td>23500</td>\n",
       "      <td>KEY RING BASEBALL BOOT ASSORTED</td>\n",
       "    </tr>\n",
       "  </tbody>\n",
       "</table>\n",
       "</div>"
      ],
      "text/plain": [
       "       StockCode                        Description\n",
       "91        84997C  BLUE 3 PIECE POLKADOT CUTLERY SET\n",
       "8460       21090         SET/6 COLLAGE PAPER PLATES\n",
       "23736      22377              BOTTLE BAG RETROSPOT \n",
       "95267     84997C    CHILDRENS CUTLERY POLKADOT BLUE\n",
       "98375      21414            SCALLOP SHELL SOAP DISH\n",
       "287087     23360       SET 8 CANDLES VINTAGE DOILEY\n",
       "287287     23436   GIFT BAG LARGE VINTAGE CHRISTMAS\n",
       "290533     23349        ROLL WRAP VINTAGE CHRISTMAS\n",
       "292783     23360        SET 8 CANDLES VINTAGE DOILY\n",
       "304893     23436  VINTAGE CHRISTMAS GIFT BAG LARGE \n",
       "376199     23500   KEY RING BASEBALL BOOT ASSORTED "
      ]
     },
     "execution_count": 67,
     "metadata": {},
     "output_type": "execute_result"
    }
   ],
   "source": [
    "get_items_purchased(12361, product_train, customers_arr, products_arr, item_lookup)"
   ]
  },
  {
   "cell_type": "code",
   "execution_count": 70,
   "metadata": {},
   "outputs": [
    {
     "data": {
      "text/html": [
       "<div>\n",
       "<style scoped>\n",
       "    .dataframe tbody tr th:only-of-type {\n",
       "        vertical-align: middle;\n",
       "    }\n",
       "\n",
       "    .dataframe tbody tr th {\n",
       "        vertical-align: top;\n",
       "    }\n",
       "\n",
       "    .dataframe thead th {\n",
       "        text-align: right;\n",
       "    }\n",
       "</style>\n",
       "<table border=\"1\" class=\"dataframe\">\n",
       "  <thead>\n",
       "    <tr style=\"text-align: right;\">\n",
       "      <th></th>\n",
       "      <th>StockCode</th>\n",
       "      <th>Description</th>\n",
       "    </tr>\n",
       "  </thead>\n",
       "  <tbody>\n",
       "    <tr>\n",
       "      <th>0</th>\n",
       "      <td>22169</td>\n",
       "      <td>FAMILY ALBUM WHITE PICTURE FRAME</td>\n",
       "    </tr>\n",
       "    <tr>\n",
       "      <th>1</th>\n",
       "      <td>84997D</td>\n",
       "      <td>PINK 3 PIECE POLKADOT CUTLERY SET</td>\n",
       "    </tr>\n",
       "    <tr>\n",
       "      <th>2</th>\n",
       "      <td>84898F</td>\n",
       "      <td>YELLOW FLOWERS FELT HANDBAG KIT</td>\n",
       "    </tr>\n",
       "    <tr>\n",
       "      <th>3</th>\n",
       "      <td>84625A</td>\n",
       "      <td>PINK NEW BAROQUECANDLESTICK CANDLE</td>\n",
       "    </tr>\n",
       "    <tr>\n",
       "      <th>4</th>\n",
       "      <td>85167B</td>\n",
       "      <td>BLACK GRAND BAROQUE PHOTO FRAME</td>\n",
       "    </tr>\n",
       "    <tr>\n",
       "      <th>5</th>\n",
       "      <td>23511</td>\n",
       "      <td>EMBROIDERED RIBBON REEL EMILY</td>\n",
       "    </tr>\n",
       "    <tr>\n",
       "      <th>6</th>\n",
       "      <td>85232D</td>\n",
       "      <td>SET/3 DECOUPAGE STACKING TINS</td>\n",
       "    </tr>\n",
       "    <tr>\n",
       "      <th>7</th>\n",
       "      <td>84997B</td>\n",
       "      <td>RED 3 PIECE RETROSPOT CUTLERY SET</td>\n",
       "    </tr>\n",
       "    <tr>\n",
       "      <th>8</th>\n",
       "      <td>84970L</td>\n",
       "      <td>SINGLE HEART ZINC T-LIGHT HOLDER</td>\n",
       "    </tr>\n",
       "    <tr>\n",
       "      <th>9</th>\n",
       "      <td>21892</td>\n",
       "      <td>TRADITIONAL WOODEN CATCH CUP GAME</td>\n",
       "    </tr>\n",
       "  </tbody>\n",
       "</table>\n",
       "</div>"
      ],
      "text/plain": [
       "  StockCode                         Description\n",
       "0     22169    FAMILY ALBUM WHITE PICTURE FRAME\n",
       "1    84997D   PINK 3 PIECE POLKADOT CUTLERY SET\n",
       "2    84898F     YELLOW FLOWERS FELT HANDBAG KIT\n",
       "3    84625A  PINK NEW BAROQUECANDLESTICK CANDLE\n",
       "4    85167B     BLACK GRAND BAROQUE PHOTO FRAME\n",
       "5     23511      EMBROIDERED RIBBON REEL EMILY \n",
       "6    85232D       SET/3 DECOUPAGE STACKING TINS\n",
       "7    84997B   RED 3 PIECE RETROSPOT CUTLERY SET\n",
       "8    84970L    SINGLE HEART ZINC T-LIGHT HOLDER\n",
       "9     21892  TRADITIONAL WOODEN CATCH CUP GAME "
      ]
     },
     "execution_count": 70,
     "metadata": {},
     "output_type": "execute_result"
    }
   ],
   "source": [
    "rec_items(12361, product_train, user_vecs, item_vecs, customers_arr, products_arr, item_lookup, num_items = 10)"
   ]
  },
  {
   "cell_type": "code",
   "execution_count": null,
   "metadata": {},
   "outputs": [],
   "source": []
  }
 ],
 "metadata": {
  "kernelspec": {
   "display_name": "Python 3",
   "language": "python",
   "name": "python3"
  },
  "language_info": {
   "codemirror_mode": {
    "name": "ipython",
    "version": 3
   },
   "file_extension": ".py",
   "mimetype": "text/x-python",
   "name": "python",
   "nbconvert_exporter": "python",
   "pygments_lexer": "ipython3",
   "version": "3.8.3"
  }
 },
 "nbformat": 4,
 "nbformat_minor": 4
}
